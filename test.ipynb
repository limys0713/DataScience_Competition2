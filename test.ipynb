{
 "cells": [
  {
   "cell_type": "code",
   "execution_count": 1,
   "metadata": {},
   "outputs": [],
   "source": [
    "import pandas as pd\n",
    "import os\n",
    "import numpy as np\n",
    "import zipfile\n",
    "from sklearn.model_selection import train_test_split\n",
    "from xgboost import XGBRegressor"
   ]
  },
  {
   "cell_type": "code",
   "execution_count": 2,
   "metadata": {},
   "outputs": [],
   "source": [
    "# 定義數據路徑和文件名稱\n",
    "train_folder = \"DS_Dataset\"\n",
    "output_file = \"upload.csv\"\n",
    "zip_file = \"upload.zip\""
   ]
  },
  {
   "cell_type": "code",
   "execution_count": 3,
   "metadata": {},
   "outputs": [
    {
     "name": "stdout",
     "output_type": "stream",
     "text": [
      "Location 1: Validation MAE: 11.459535034403624\n",
      "Location 2: Validation MAE: 9.76598867109475\n",
      "Location 3: Validation MAE: 13.130175258508796\n",
      "Location 4: Validation MAE: 17.901098789962347\n",
      "Location 5: Validation MAE: 14.510303425325615\n",
      "Location 6: Validation MAE: 14.082978756163651\n",
      "Location 7: Validation MAE: 11.345068939849655\n",
      "Location 8: Validation MAE: 6.62174733806663\n",
      "Location 9: Validation MAE: 5.81015768863446\n",
      "Location 10: Validation MAE: 11.221358694083907\n",
      "Location 11: Validation MAE: 4.988318425769639\n",
      "Location 12: Validation MAE: 6.643505201786225\n",
      "Location 13: Validation MAE: 8.983859624559093\n",
      "Location 14: Validation MAE: 10.065535434699848\n",
      "Location 15: Validation MAE: 7.546080745964562\n",
      "Location 16: Validation MAE: 10.337343025756786\n",
      "Location 17: Validation MAE: 13.684409060976586\n"
     ]
    }
   ],
   "source": [
    "# 初始化字典來存儲每個裝置的模型和訓練數據\n",
    "models = {}\n",
    "train_data = {}\n",
    "\n",
    "# 讀取所有訓練文件並為每個裝置訓練模型\n",
    "for location in range(1, 18):\n",
    "    train_file = os.path.join(train_folder, f\"L{location}_train.csv\")\n",
    "    train_df = pd.read_csv(train_file)\n",
    "\n",
    "    # 處理日期時間\n",
    "    train_df[\"DateTime\"] = pd.to_datetime(train_df[\"DateTime\"])\n",
    "    train_df[\"Hour\"] = train_df[\"DateTime\"].dt.hour\n",
    "    train_df[\"Minute\"] = train_df[\"DateTime\"].dt.minute\n",
    "    train_df[\"DayOfWeek\"] = train_df[\"DateTime\"].dt.dayofweek\n",
    "\n",
    "    # 創建歷史特徵（上一小時、上一分鐘的數據）\n",
    "    train_df[\"Prev_Hour_Power\"] = train_df[\"Power(mW)\"].shift(1)\n",
    "    train_df[\"Prev_Minute_Power\"] = train_df[\"Power(mW)\"].shift(1)\n",
    "\n",
    "    # 特徵與標籤\n",
    "    features = [\"WindSpeed(m/s)\", \"Pressure(hpa)\", \"Temperature(°C)\", \"Humidity(%)\", \"Sunlight(Lux)\", \n",
    "                \"Hour\", \"Minute\", \"DayOfWeek\", \"Prev_Hour_Power\", \"Prev_Minute_Power\"]\n",
    "    X = train_df[features].fillna(0)  # 用 0 填充缺失值\n",
    "    y = train_df[\"Power(mW)\"]\n",
    "\n",
    "    # 切分數據集\n",
    "    X_train, X_val, y_train, y_val = train_test_split(X, y, test_size=0.2, random_state=42)\n",
    "\n",
    "    # 訓練模型\n",
    "    model = XGBRegressor(n_estimators=300, learning_rate=0.03, max_depth=10, subsample=0.8, random_state=42)\n",
    "    model.fit(X_train, y_train)\n",
    "\n",
    "    # 驗證模型\n",
    "    val_predictions = model.predict(X_val)\n",
    "    print(f\"Location {location}: Validation MAE: {np.mean(np.abs(val_predictions - y_val))}\")\n",
    "\n",
    "    # 保存模型和訓練數據\n",
    "    models[location] = model\n",
    "    train_data[location] = train_df"
   ]
  },
  {
   "cell_type": "code",
   "execution_count": 4,
   "metadata": {},
   "outputs": [],
   "source": [
    "# 讀取 upload.csv\n",
    "upload_path = os.path.join(train_folder, \"upload.csv\")\n",
    "upload_df = pd.read_csv(upload_path, header=0, names=[\"序號\", \"答案\"])\n",
    "\n",
    "# 確保序號列為字符串\n",
    "upload_df[\"序號\"] = upload_df[\"序號\"].astype(str)\n",
    "\n",
    "# 提取時間和裝置代碼特徵\n",
    "upload_df[\"DateTime\"] = pd.to_datetime(upload_df[\"序號\"].str[:12], format=\"%Y%m%d%H%M\")\n",
    "upload_df[\"LocationCode\"] = upload_df[\"序號\"].str[-2:].astype(int)\n",
    "upload_df[\"Hour\"] = upload_df[\"DateTime\"].dt.hour\n",
    "upload_df[\"Minute\"] = upload_df[\"DateTime\"].dt.minute\n",
    "upload_df[\"DayOfWeek\"] = upload_df[\"DateTime\"].dt.dayofweek\n"
   ]
  },
  {
   "cell_type": "code",
   "execution_count": 5,
   "metadata": {},
   "outputs": [],
   "source": [
    "# 預測每一行的答案\n",
    "predictions = []\n",
    "for _, row in upload_df.iterrows():\n",
    "    location = row[\"LocationCode\"]\n",
    "    model = models[location]  # 使用對應的裝置模型\n",
    "\n",
    "    # 查找對應裝置的特徵數據\n",
    "    location_data = pd.read_csv(os.path.join(train_folder, f\"L{location}_train.csv\"))\n",
    "    location_data[\"DateTime\"] = pd.to_datetime(location_data[\"DateTime\"])\n",
    "\n",
    "    # 計算時間特徵：這一步保證了 'Hour', 'Minute', 'DayOfWeek' 被計算出來\n",
    "    location_data[\"Hour\"] = location_data[\"DateTime\"].dt.hour\n",
    "    location_data[\"Minute\"] = location_data[\"DateTime\"].dt.minute\n",
    "    location_data[\"DayOfWeek\"] = location_data[\"DateTime\"].dt.dayofweek\n",
    "\n",
    "    # 創建歷史特徵（上一小時、上一分鐘的數據）\n",
    "    location_data[\"Prev_Hour_Power\"] = location_data[\"Power(mW)\"].shift(1)\n",
    "    location_data[\"Prev_Minute_Power\"] = location_data[\"Power(mW)\"].shift(1)\n",
    "\n",
    "    # 找到最近的特徵值\n",
    "    closest_row = location_data.iloc[(location_data[\"DateTime\"] - row[\"DateTime\"]).abs().argsort()[:1]]\n",
    "\n",
    "    # 確保選擇了所有需要的特徵\n",
    "    X_pred = closest_row[features].iloc[0].fillna(0)  # 用 0 填充缺失值\n",
    "\n",
    "    # 預測\n",
    "    prediction = model.predict([X_pred.values])[0]  # 確保 X_pred 轉為二維數組\n",
    "    predictions.append(prediction)  # 存儲預測值\n",
    "\n",
    "# 將預測結果轉換為數字格式\n",
    "predictions = [float(prediction) for prediction in predictions]  # 確保是數字類型"
   ]
  },
  {
   "cell_type": "code",
   "execution_count": 6,
   "metadata": {},
   "outputs": [],
   "source": [
    "# 在這裡根據時間加權對預測結果進行調整\n",
    "for idx, row in upload_df.iterrows():\n",
    "    prediction = predictions[idx]  # 獲取預測結果\n",
    "    time_factor = 0.05 * np.sin((row[\"Hour\"] / 24) * 2 * np.pi)  # 根據時間加權的示例（您可以自定義）\n",
    "    time_weighted_prediction = prediction * (1 + time_factor)  # 時間加權\n",
    "    predictions[idx] = max(0, round(time_weighted_prediction, 2))  # 確保預測結果不為負值\n",
    "\n",
    "# 格式化為兩位小數\n",
    "predictions = [f\"{prediction:.2f}\" for prediction in predictions]\n",
    "\n",
    "# 保存預測結果\n",
    "upload_df[\"答案\"] = predictions\n",
    "upload_df[[\"序號\", \"答案\"]].to_csv(output_file, index=False, header=True, encoding='utf-8-sig')\n",
    "\n",
    "# 壓縮為 zip 文件\n",
    "with zipfile.ZipFile(zip_file, 'w') as zf:\n",
    "    zf.write(output_file)"
   ]
  }
 ],
 "metadata": {
  "kernelspec": {
   "display_name": "Python 3",
   "language": "python",
   "name": "python3"
  },
  "language_info": {
   "codemirror_mode": {
    "name": "ipython",
    "version": 3
   },
   "file_extension": ".py",
   "mimetype": "text/x-python",
   "name": "python",
   "nbconvert_exporter": "python",
   "pygments_lexer": "ipython3",
   "version": "3.12.6"
  }
 },
 "nbformat": 4,
 "nbformat_minor": 2
}
